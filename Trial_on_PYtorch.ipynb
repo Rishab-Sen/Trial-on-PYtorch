{
  "nbformat": 4,
  "nbformat_minor": 0,
  "metadata": {
    "colab": {
      "provenance": [],
      "gpuType": "T4"
    },
    "kernelspec": {
      "name": "python3",
      "display_name": "Python 3"
    },
    "language_info": {
      "name": "python"
    },
    "accelerator": "GPU"
  },
  "cells": [
    {
      "cell_type": "code",
      "execution_count": 2,
      "metadata": {
        "colab": {
          "base_uri": "https://localhost:8080/"
        },
        "id": "6CL6I8gwld_a",
        "outputId": "047c42f4-3f6f-4a9e-9885-5b1c94b1f9e8"
      },
      "outputs": [
        {
          "output_type": "stream",
          "name": "stdout",
          "text": [
            "2.6.0+cu124\n"
          ]
        }
      ],
      "source": [
        "import torch\n",
        "print(torch.__version__)"
      ]
    },
    {
      "cell_type": "code",
      "source": [
        "# Creating a 0-D Tensor (Scalar)\n",
        "scalar_tensor = torch.tensor(7)\n",
        "print(\"Scalar Tensor:\", scalar_tensor)\n",
        "print(\"Dimensions (rank):\", scalar_tensor.ndim)\n",
        "print(\"Shape:\", scalar_tensor.shape)\n",
        "\n",
        "# Creating a 1-D Tensor (Vector)\n",
        "vector_tensor = torch.tensor([1, 2, 3, 4, 5])\n",
        "print(\"\\nVector Tensor:\", vector_tensor)\n",
        "print(\"Dimensions (rank):\", vector_tensor.ndim)\n",
        "print(\"Shape:\", vector_tensor.shape)\n",
        "\n",
        "# Creating a 2-D Tensor (Matrix)\n",
        "matrix_tensor = torch.tensor([[10, 20, 30],\n",
        "                              [40, 50, 60]])\n",
        "print(\"\\nMatrix Tensor:\\n\", matrix_tensor)\n",
        "print(\"Dimensions (rank):\", matrix_tensor.ndim)\n",
        "print(\"Shape:\", matrix_tensor.shape)\n",
        "\n",
        "# Creating a 3-D Tensor (Example)\n",
        "# This could represent 2 images, each 3x3 pixels (e.g., grayscale)\n",
        "tensor_3d = torch.tensor([\n",
        "    [[1, 2, 3],\n",
        "     [4, 5, 6],\n",
        "     [7, 8, 9]],\n",
        "\n",
        "    [[11, 12, 13],\n",
        "     [14, 15, 16],\n",
        "     [17, 18, 19]]\n",
        "])\n",
        "print(\"\\n3D Tensor:\\n\", tensor_3d)\n",
        "print(\"Dimensions (rank):\", tensor_3d.ndim)\n",
        "print(\"Shape:\", tensor_3d.shape)"
      ],
      "metadata": {
        "colab": {
          "base_uri": "https://localhost:8080/"
        },
        "id": "2X7Y936xls4a",
        "outputId": "98a033b6-00ee-4247-c916-127d659bd490"
      },
      "execution_count": 3,
      "outputs": [
        {
          "output_type": "stream",
          "name": "stdout",
          "text": [
            "Scalar Tensor: tensor(7)\n",
            "Dimensions (rank): 0\n",
            "Shape: torch.Size([])\n",
            "\n",
            "Vector Tensor: tensor([1, 2, 3, 4, 5])\n",
            "Dimensions (rank): 1\n",
            "Shape: torch.Size([5])\n",
            "\n",
            "Matrix Tensor:\n",
            " tensor([[10, 20, 30],\n",
            "        [40, 50, 60]])\n",
            "Dimensions (rank): 2\n",
            "Shape: torch.Size([2, 3])\n",
            "\n",
            "3D Tensor:\n",
            " tensor([[[ 1,  2,  3],\n",
            "         [ 4,  5,  6],\n",
            "         [ 7,  8,  9]],\n",
            "\n",
            "        [[11, 12, 13],\n",
            "         [14, 15, 16],\n",
            "         [17, 18, 19]]])\n",
            "Dimensions (rank): 3\n",
            "Shape: torch.Size([2, 3, 3])\n"
          ]
        }
      ]
    },
    {
      "cell_type": "code",
      "source": [
        "# Addition\n",
        "tensor_A = torch.tensor([1, 2, 3])\n",
        "tensor_B = torch.tensor([4, 5, 6])\n",
        "print(\"Tensor A + B:\", tensor_A + tensor_B)\n",
        "\n",
        "# Multiplication (element-wise)\n",
        "print(\"Tensor A * B (element-wise):\", tensor_A * tensor_B)\n",
        "\n",
        "# Matrix Multiplication (dot product - CRUCIAL for neural networks)\n",
        "# For matrix multiplication, inner dimensions must match: (a, b) @ (b, c) -> (a, c)\n",
        "matrix1 = torch.tensor([[1, 2], [3, 4]])\n",
        "matrix2 = torch.tensor([[5, 6], [7, 8]])\n",
        "print(\"\\nMatrix 1:\\n\", matrix1)\n",
        "print(\"Matrix 2:\\n\", matrix2)\n",
        "print(\"Matrix Multiplication (torch.matmul):\\n\", torch.matmul(matrix1, matrix2))\n",
        "print(\"Matrix Multiplication (using @ operator):\\n\", matrix1 @ matrix2) # Python 3.5+ operator for matmul\n",
        "\n",
        "# Reshaping Tensors (changing their shape)\n",
        "# view() or reshape() are common\n",
        "original_tensor = torch.rand(4, 4)\n",
        "print(\"\\nOriginal Tensor (4x4):\\n\", original_tensor)\n",
        "reshaped_tensor = original_tensor.view(16) # Reshape to a 1D tensor of 16 elements\n",
        "print(\"Reshaped to 1D (16 elements):\\n\", reshaped_tensor)\n",
        "reshaped_tensor_2x8 = original_tensor.view(2, 8) # Reshape to 2 rows, 8 columns\n",
        "print(\"Reshaped to 2x8:\\n\", reshaped_tensor_2x8)"
      ],
      "metadata": {
        "colab": {
          "base_uri": "https://localhost:8080/"
        },
        "id": "mN00YGzEnKZY",
        "outputId": "5470c49e-e4fd-4b67-9948-55fc31fccb4f"
      },
      "execution_count": 4,
      "outputs": [
        {
          "output_type": "stream",
          "name": "stdout",
          "text": [
            "Tensor A + B: tensor([5, 7, 9])\n",
            "Tensor A * B (element-wise): tensor([ 4, 10, 18])\n",
            "\n",
            "Matrix 1:\n",
            " tensor([[1, 2],\n",
            "        [3, 4]])\n",
            "Matrix 2:\n",
            " tensor([[5, 6],\n",
            "        [7, 8]])\n",
            "Matrix Multiplication (torch.matmul):\n",
            " tensor([[19, 22],\n",
            "        [43, 50]])\n",
            "Matrix Multiplication (using @ operator):\n",
            " tensor([[19, 22],\n",
            "        [43, 50]])\n",
            "\n",
            "Original Tensor (4x4):\n",
            " tensor([[0.8266, 0.6227, 0.0442, 0.7190],\n",
            "        [0.6364, 0.8463, 0.3466, 0.7299],\n",
            "        [0.2924, 0.3495, 0.2514, 0.0159],\n",
            "        [0.3356, 0.8403, 0.2879, 0.5614]])\n",
            "Reshaped to 1D (16 elements):\n",
            " tensor([0.8266, 0.6227, 0.0442, 0.7190, 0.6364, 0.8463, 0.3466, 0.7299, 0.2924,\n",
            "        0.3495, 0.2514, 0.0159, 0.3356, 0.8403, 0.2879, 0.5614])\n",
            "Reshaped to 2x8:\n",
            " tensor([[0.8266, 0.6227, 0.0442, 0.7190, 0.6364, 0.8463, 0.3466, 0.7299],\n",
            "        [0.2924, 0.3495, 0.2514, 0.0159, 0.3356, 0.8403, 0.2879, 0.5614]])\n"
          ]
        }
      ]
    },
    {
      "cell_type": "code",
      "source": [
        "# Check if CUDA (NVIDIA GPU support) is available\n",
        "if torch.cuda.is_available():\n",
        "    print(\"\\nGPU (CUDA) is available! Moving tensors to GPU.\")\n",
        "    device = \"cuda\"\n",
        "else:\n",
        "    print(\"\\nGPU (CUDA) not available, using CPU.\")\n",
        "    device = \"cpu\"\n",
        "\n",
        "# Create a tensor on the CPU\n",
        "cpu_tensor = torch.tensor([1, 2, 3])\n",
        "print(\"\\nCPU Tensor:\", cpu_tensor, cpu_tensor.device)\n",
        "\n",
        "# Move the tensor to the GPU (if available)\n",
        "gpu_tensor = cpu_tensor.to(device)\n",
        "print(\"GPU Tensor:\", gpu_tensor, gpu_tensor.device)\n",
        "\n",
        "# You can now perform operations on the GPU tensor\n",
        "gpu_result = gpu_tensor * 10\n",
        "print(\"GPU Result:\", gpu_result)\n",
        "\n",
        "# IMPORTANT: You cannot perform operations between tensors on different devices.\n",
        "# If you have a CPU tensor and a GPU tensor, one must be moved to the other's device.\n",
        "# For example, to move GPU tensor back to CPU:\n",
        "# cpu_result = gpu_result.to(\"cpu\")"
      ],
      "metadata": {
        "colab": {
          "base_uri": "https://localhost:8080/"
        },
        "id": "JMro9i5CooN0",
        "outputId": "4be6734b-4bfa-407b-ff34-916438638885"
      },
      "execution_count": 5,
      "outputs": [
        {
          "output_type": "stream",
          "name": "stdout",
          "text": [
            "\n",
            "GPU (CUDA) is available! Moving tensors to GPU.\n",
            "\n",
            "CPU Tensor: tensor([1, 2, 3]) cpu\n",
            "GPU Tensor: tensor([1, 2, 3], device='cuda:0') cuda:0\n",
            "GPU Result: tensor([10, 20, 30], device='cuda:0')\n"
          ]
        }
      ]
    },
    {
      "cell_type": "code",
      "source": [
        "import torch.nn as nn\n",
        "import torch.nn.functional as F\n",
        "\n",
        "# 1. Define your neural network architecture\n",
        "class SimpleNeuralNetwork(nn.Module):\n",
        "    def __init__(self):\n",
        "        super(SimpleNeuralNetwork, self).__init__()\n",
        "        # Define layers: an input layer to a hidden layer, then hidden to output\n",
        "        self.fc1 = nn.Linear(in_features=10, out_features=50) # Fully Connected Layer 1\n",
        "        self.fc2 = nn.Linear(in_features=50, out_features=1) # Fully Connected Layer 2 (output)\n",
        "\n",
        "    def forward(self, x):\n",
        "        # Define how data flows through the network\n",
        "        x = F.relu(self.fc1(x)) # Apply linear layer, then a non-linear activation (ReLU)\n",
        "        x = torch.sigmoid(self.fc2(x)) # Apply output layer, then a sigmoid for binary classification\n",
        "        return x\n",
        "\n",
        "# 2. Create an instance of your model and move it to GPU\n",
        "model = SimpleNeuralNetwork().to(device) # device from previous GPU check\n",
        "\n",
        "# 3. Define a Loss Function (how \"wrong\" your model's predictions are)\n",
        "# For binary classification, Binary Cross Entropy Loss is common\n",
        "loss_fn = nn.BCELoss()\n",
        "\n",
        "# 4. Define an Optimizer (how the model updates its weights to reduce loss)\n",
        "# Adam is a popular choice\n",
        "optimizer = torch.optim.Adam(model.parameters(), lr=0.001) # lr = learning rate\n",
        "\n",
        "# 5. Training Loop (Conceptual - this is the core of learning)\n",
        "# For a real project, you'd have actual data, loop through epochs, batches, etc.\n",
        "# For now, imagine:\n",
        "# for epoch in range(num_epochs):\n",
        "#     for batch in training_data:\n",
        "#         inputs, targets = batch\n",
        "#         inputs, targets = inputs.to(device), targets.to(device) # Move data to GPU\n",
        "\n",
        "#         optimizer.zero_grad() # Clear previous gradients\n",
        "#         outputs = model(inputs) # Forward pass: make predictions\n",
        "#         loss = loss_fn(outputs, targets) # Calculate how wrong predictions are\n",
        "#         loss.backward() # Backward pass: calculate gradients (how much each weight contributed to error)\n",
        "#         optimizer.step() # Update model weights based on gradients\n",
        "#\n",
        "#     # After each epoch, evaluate on validation data\n",
        "#     # (Not shown here for simplicity)\n",
        "\n",
        "print(\"\\nConceptual Neural Network defined and ready for training!\")\n",
        "print(\"Model structure:\\n\", model)"
      ],
      "metadata": {
        "colab": {
          "base_uri": "https://localhost:8080/"
        },
        "id": "0Ru6ekJlpLwB",
        "outputId": "720a15aa-0ba2-4fa6-b85d-76fe01d0c891"
      },
      "execution_count": 6,
      "outputs": [
        {
          "output_type": "stream",
          "name": "stdout",
          "text": [
            "\n",
            "Conceptual Neural Network defined and ready for training!\n",
            "Model structure:\n",
            " SimpleNeuralNetwork(\n",
            "  (fc1): Linear(in_features=10, out_features=50, bias=True)\n",
            "  (fc2): Linear(in_features=50, out_features=1, bias=True)\n",
            ")\n"
          ]
        }
      ]
    },
    {
      "cell_type": "code",
      "source": [],
      "metadata": {
        "id": "vN0p4s-eqKGx"
      },
      "execution_count": null,
      "outputs": []
    }
  ]
}